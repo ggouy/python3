{
 "cells": [
  {
   "cell_type": "markdown",
   "metadata": {},
   "source": [
    "# 选择\n",
    "## 布尔类型、数值和表达式\n",
    "![](../Photo/33.png)\n",
    "- 注意：比较运算符的相等是两个等号，一个等到代表赋值\n",
    "- 在Python中可以用整型0来代表False，其他数字来代表True\n",
    "- 后面还会讲到 is 在判断语句中的用发"
   ]
  },
  {
   "cell_type": "code",
   "execution_count": 5,
   "metadata": {},
   "outputs": [
    {
     "data": {
      "text/plain": [
       "False"
      ]
     },
     "execution_count": 5,
     "metadata": {},
     "output_type": "execute_result"
    }
   ],
   "source": [
    "b='2'\n",
    "a='1'\n",
    "a>b"
   ]
  },
  {
   "cell_type": "code",
   "execution_count": 8,
   "metadata": {},
   "outputs": [
    {
     "data": {
      "text/plain": [
       "False"
      ]
     },
     "execution_count": 8,
     "metadata": {},
     "output_type": "execute_result"
    }
   ],
   "source": [
    "0 is 1"
   ]
  },
  {
   "cell_type": "code",
   "execution_count": 14,
   "metadata": {},
   "outputs": [
    {
     "data": {
      "text/plain": [
       "False"
      ]
     },
     "execution_count": 14,
     "metadata": {},
     "output_type": "execute_result"
    }
   ],
   "source": [
    "a='Joker'\n",
    "b='jahah'\n",
    "a>b"
   ]
  },
  {
   "cell_type": "code",
   "execution_count": null,
   "metadata": {},
   "outputs": [],
   "source": []
  },
  {
   "cell_type": "markdown",
   "metadata": {},
   "source": [
    "## 字符串的比较使用ASCII值"
   ]
  },
  {
   "cell_type": "markdown",
   "metadata": {},
   "source": [
    "## Markdown \n",
    "- https://github.com/younghz/Markdown"
   ]
  },
  {
   "cell_type": "markdown",
   "metadata": {},
   "source": [
    "## EP:\n",
    "- <img src=\"../Photo/34.png\"></img>\n",
    "- 输入一个数字，判断其实奇数还是偶数"
   ]
  },
  {
   "cell_type": "code",
   "execution_count": 17,
   "metadata": {},
   "outputs": [
    {
     "data": {
      "text/plain": [
       "True"
      ]
     },
     "execution_count": 17,
     "metadata": {},
     "output_type": "execute_result"
    }
   ],
   "source": [
    "bool(4)"
   ]
  },
  {
   "cell_type": "code",
   "execution_count": 18,
   "metadata": {},
   "outputs": [
    {
     "data": {
      "text/plain": [
       "False"
      ]
     },
     "execution_count": 18,
     "metadata": {},
     "output_type": "execute_result"
    }
   ],
   "source": [
    "bool(0)"
   ]
  },
  {
   "cell_type": "code",
   "execution_count": 26,
   "metadata": {},
   "outputs": [
    {
     "name": "stdout",
     "output_type": "stream",
     "text": [
      "请输入一个数字8\n",
      "偶数\n"
     ]
    }
   ],
   "source": [
    "x=eval(input('请输入一个数字'))\n",
    "d=x%2\n",
    "if d==1:\n",
    " print('奇数')\n",
    "if d==0:\n",
    "print('偶数')"
   ]
  },
  {
   "cell_type": "markdown",
   "metadata": {},
   "source": [
    "## 产生随机数字\n",
    "- 函数random.randint(a,b) 可以用来产生一个a和b之间且包括a和b的随机整数"
   ]
  },
  {
   "cell_type": "code",
   "execution_count": 1,
   "metadata": {},
   "outputs": [],
   "source": [
    "import random"
   ]
  },
  {
   "cell_type": "code",
   "execution_count": 4,
   "metadata": {},
   "outputs": [
    {
     "name": "stdout",
     "output_type": "stream",
     "text": [
      "2\n"
     ]
    }
   ],
   "source": [
    "a=random.randint(0,10)\n",
    "print(a)"
   ]
  },
  {
   "cell_type": "code",
   "execution_count": 5,
   "metadata": {},
   "outputs": [
    {
     "name": "stdout",
     "output_type": "stream",
     "text": [
      "请输入一个数8\n",
      "太大了\n"
     ]
    }
   ],
   "source": [
    "x=eval(input('请输入一个数'))\n",
    "if x>a:\n",
    "    print('太大了')\n",
    "if x<a:\n",
    "    print('太小了')"
   ]
  },
  {
   "cell_type": "code",
   "execution_count": 2,
   "metadata": {},
   "outputs": [
    {
     "name": "stdout",
     "output_type": "stream",
     "text": [
      "4 0\n"
     ]
    }
   ],
   "source": [
    "import random\n",
    "number1=random.randint(0,10)\n",
    "number2=random.randint(0,10)\n",
    "print(number1,number2)"
   ]
  },
  {
   "cell_type": "code",
   "execution_count": 4,
   "metadata": {},
   "outputs": [
    {
     "name": "stdout",
     "output_type": "stream",
     "text": [
      "x4\n",
      "correct\n"
     ]
    }
   ],
   "source": [
    "for i in range(10):\n",
    "    x=eval(input('x'))\n",
    "    if x == (number1+number2):\n",
    "        print('correct')\n",
    "        break\n",
    "    else:\n",
    "        print('error')"
   ]
  },
  {
   "cell_type": "markdown",
   "metadata": {},
   "source": [
    "产生一个随机数，你去输入，如果你输入的数大于随机数，那么就告诉你太大了，反之，太小了，\n",
    "然后你一直输入，知道它满意为止"
   ]
  },
  {
   "cell_type": "markdown",
   "metadata": {},
   "source": [
    "##  其他random方法\n",
    "- random.random 返回0.0到1.0之间前闭后开区间的随机浮点\n",
    "- random.randrange(a,b) 前闭后开"
   ]
  },
  {
   "cell_type": "markdown",
   "metadata": {},
   "source": [
    "## EP：\n",
    "- 产生两个随机整数number1和number2，然后显示给用户，使用户输入数字的和，并判定其是否正确\n",
    "- 进阶:写一个随机序号点名程序"
   ]
  },
  {
   "cell_type": "markdown",
   "metadata": {},
   "source": [
    "## if语句\n",
    "- 如果条件正确就执行一个单向if语句，亦即当条件为真的时候才执行if内部的语句\n",
    "- Python有很多选择语句:\n",
    "> - 单向if \n",
    "\n",
    "\n",
    "\n",
    "- 双向if-else\n",
    "  - 嵌套if\n",
    "  - 多向if-elif-else\n",
    "  \n",
    "- 注意：当语句含有子语句的时候，那么一定至少要有一个缩进，也就是说如果有儿子存在，那么一定要缩进\n",
    "- 切记不可tab键和space混用，单用tab 或者 space\n",
    "- 当你输出的结果是无论if是否为真时都需要显示时，语句应该与if对齐"
   ]
  },
  {
   "cell_type": "code",
   "execution_count": null,
   "metadata": {},
   "outputs": [],
   "source": []
  },
  {
   "cell_type": "markdown",
   "metadata": {},
   "source": [
    "## EP：\n",
    "- 用户输入一个数字，判断其实奇数还是偶数\n",
    "- 进阶：可以查看下4.5实例研究猜生日"
   ]
  },
  {
   "cell_type": "markdown",
   "metadata": {},
   "source": [
    "## 双向if-else 语句\n",
    "- 如果条件为真，那么走if内部语句，否则走else内部语句"
   ]
  },
  {
   "cell_type": "code",
   "execution_count": 10,
   "metadata": {},
   "outputs": [
    {
     "name": "stdout",
     "output_type": "stream",
     "text": [
      "有钱吗no\n",
      "滚\n"
     ]
    }
   ],
   "source": [
    "x=input('有钱吗')\n",
    "if x=='yes':\n",
    "    print('下一题')\n",
    "    y=input('帅吗')\n",
    "    if y==\"yes\":\n",
    "        print('下一题')\n",
    "        z=input('你有老婆吗')\n",
    "        if z=='no':\n",
    "            print('good')\n",
    "        else:\n",
    "            print('滚')\n",
    "    else:\n",
    "        print('滚')\n",
    "else:\n",
    "   print('滚')"
   ]
  },
  {
   "cell_type": "markdown",
   "metadata": {},
   "source": [
    "## EP：\n",
    "- 产生两个随机整数number1和number2，然后显示给用户，使用户输入数字，并判定其是否正确,如果正确打印“you‘re correct”，否则打印正确错误"
   ]
  },
  {
   "cell_type": "markdown",
   "metadata": {},
   "source": [
    "## 嵌套if 和多向if-elif-else\n",
    "![](../Photo/35.png)"
   ]
  },
  {
   "cell_type": "markdown",
   "metadata": {},
   "source": [
    "## EP：\n",
    "- 提示用户输入一个年份，然后显示表示这一年的动物\n",
    "![](../Photo/36.png)\n",
    "- 计算身体质量指数的程序\n",
    "- BMI = 以千克为单位的体重除以以米为单位的身高的平方\n",
    "![](../Photo/37.png)"
   ]
  },
  {
   "cell_type": "code",
   "execution_count": 18,
   "metadata": {},
   "outputs": [
    {
     "name": "stdout",
     "output_type": "stream",
     "text": [
      "身高145\n",
      "体重34\n",
      "超轻\n"
     ]
    }
   ],
   "source": [
    "身高=eval(input('身高'))\n",
    "体重=eval(input('体重'))\n",
    "BMI=体重/身高**2\n",
    "if BMI<18.5:\n",
    "    print('超轻')\n",
    "elif 18.5<=BMI<25:\n",
    "    print('标准')\n",
    "elif 25<=BMI<30:    \n",
    "    print('超重')\n",
    "else :\n",
    "    print('痴肥')\n"
   ]
  },
  {
   "cell_type": "raw",
   "metadata": {},
   "source": []
  },
  {
   "cell_type": "markdown",
   "metadata": {},
   "source": [
    "## 逻辑运算符\n",
    "![](../Photo/38.png)"
   ]
  },
  {
   "cell_type": "markdown",
   "metadata": {},
   "source": [
    "![](../Photo/39.png)\n",
    "![](../Photo/40.png)"
   ]
  },
  {
   "cell_type": "markdown",
   "metadata": {},
   "source": [
    "alt 键连打"
   ]
  },
  {
   "cell_type": "markdown",
   "metadata": {},
   "source": [
    "## EP：\n",
    "- 判定闰年：一个年份如果能被4整除但不能被100整除，或者能被400整除，那么这个年份就是闰年\n",
    "- 提示用户输入一个年份，并返回是否是闰年\n",
    "- 提示用户输入一个数字，判断其是否为水仙花数"
   ]
  },
  {
   "cell_type": "code",
   "execution_count": 5,
   "metadata": {},
   "outputs": [
    {
     "name": "stdout",
     "output_type": "stream",
     "text": [
      "输入年份2000\n",
      "2000 是闰年\n"
     ]
    }
   ],
   "source": [
    "year=eval(input('输入年份'))\n",
    "if year%4==0 and year%100!=0 or year%400==0:\n",
    "    print(year,'是闰年')"
   ]
  },
  {
   "cell_type": "code",
   "execution_count": null,
   "metadata": {},
   "outputs": [],
   "source": [
    "number=eval(input('数字'))\n",
    "bai=number//100\n",
    "shi=number//10%10\n",
    "ge=number%10\n",
    "\n",
    "\n",
    "if bai **3 +shi **3 + ge ** 3 ==number:\n",
    "    print('水仙花')"
   ]
  },
  {
   "cell_type": "markdown",
   "metadata": {},
   "source": [
    "## 实例研究：彩票\n",
    "![](../Photo/41.png)"
   ]
  },
  {
   "cell_type": "markdown",
   "metadata": {},
   "source": [
    "# Homework\n",
    "- 1\n",
    "![](../Photo/42.png)"
   ]
  },
  {
   "cell_type": "code",
   "execution_count": 1,
   "metadata": {},
   "outputs": [],
   "source": [
    "import math"
   ]
  },
  {
   "cell_type": "code",
   "execution_count": 4,
   "metadata": {},
   "outputs": [
    {
     "name": "stdout",
     "output_type": "stream",
     "text": [
      "输入一个数：3,4,5\n",
      "The equation has no real roots\n"
     ]
    }
   ],
   "source": [
    "a,b,c = eval(input('输入一个数：'))\n",
    "if b**2-(4*a*c)>0:\n",
    "    r1 = (-b+math.sqrt(b**2-4*a*c))/(2*a)\n",
    "    r2 = (-b-math.sqrt(b**2-4*a*c))/(2*a)\n",
    "    print(r1,r2)\n",
    "if b**2-(4*a*c)==0:\n",
    "    r1 = (-b+math.sqrt(b**2-4*a*c))/(2*a)\n",
    "    print(r1,r2)\n",
    "if b**2-(4*a*c)<0:\n",
    "    print('The equation has no real roots')"
   ]
  },
  {
   "cell_type": "markdown",
   "metadata": {},
   "source": [
    "- 2\n",
    "![](../Photo/43.png)"
   ]
  },
  {
   "cell_type": "code",
   "execution_count": 8,
   "metadata": {},
   "outputs": [],
   "source": [
    "import random"
   ]
  },
  {
   "cell_type": "code",
   "execution_count": 9,
   "metadata": {},
   "outputs": [
    {
     "name": "stdout",
     "output_type": "stream",
     "text": [
      "第一个数字是； 4\n",
      "第二个数字是； 23\n",
      "Please input the sum of these two nmbers:27\n",
      "结果为真\n"
     ]
    }
   ],
   "source": [
    "x=random.randint(1,100)\n",
    "y=random.randint(1,100)\n",
    "print('第一个数字是；',x)\n",
    "print('第二个数字是；',y)\n",
    "a=eval(input('Please input the sum of these two nmbers:'))\n",
    "q=x+y\n",
    "if a==q:\n",
    "    print('结果为真')\n",
    "else:\n",
    "    print('结果为假')"
   ]
  },
  {
   "cell_type": "markdown",
   "metadata": {},
   "source": [
    "- 3\n",
    "![](../Photo/44.png)"
   ]
  },
  {
   "cell_type": "code",
   "execution_count": 10,
   "metadata": {},
   "outputs": [
    {
     "name": "stdout",
     "output_type": "stream",
     "text": [
      "Enter today'day:2\n",
      "Enter the numer of days elapsed since today:4\n",
      "Today is Tuesday and the Future day is Saturday\n"
     ]
    }
   ],
   "source": [
    "today = int(input('Enter today\\'day:'))\n",
    "plus = eval(input('Enter the numer of days elapsed since today:'))\n",
    "I=['Monday','Tuesday','Wednesday','Thursday','Friday','Saturday','Sunday']\n",
    "if today == 0:\n",
    "    x = plus%7+today\n",
    "    print('Today is',I[today-1],'and the Future day is',I[x-1])\n",
    "elif today == 1:\n",
    "    x = plus%7+today\n",
    "    print('Today is',I[today-1],'and the Future day is',I[x-1])\n",
    "elif today == 2:\n",
    "    x = plus%7+today\n",
    "    print('Today is',I[today-1],'and the Future day is',I[x-1])\n",
    "elif today == 3:\n",
    "    x = plus%7+today\n",
    "    print('Today is',I[today-1],'and the Future day is',I[x-1])\n",
    "elif today == 4:\n",
    "    x = plus%7+today\n",
    "    print('Today is',I[today-1],'and the Future day is',I[x-1])\n",
    "elif today == 5:\n",
    "    x = plus%7+today\n",
    "    print('Today is',I[today-1],'and the Future day is',I[x-1])\n",
    "elif today == 6:\n",
    "    x = plus%7+today\n",
    "    print('Today is',I[today-1],'and the Future day is',I[x-1])"
   ]
  },
  {
   "cell_type": "markdown",
   "metadata": {},
   "source": [
    "- 4\n",
    "![](../Photo/45.png)"
   ]
  },
  {
   "cell_type": "code",
   "execution_count": 12,
   "metadata": {},
   "outputs": [
    {
     "name": "stdout",
     "output_type": "stream",
     "text": [
      "输入三个整数4,7,5\n",
      "7 5 4\n"
     ]
    }
   ],
   "source": [
    "a,b,c = eval(input('输入三个整数'))\n",
    "if a>b>c:\n",
    "    print(a,b,c)\n",
    "if a>c>b:\n",
    "    print(a,c,b)\n",
    "if b>c>a:\n",
    "    print(b,c,a)\n",
    "if b>a>c:\n",
    "    print(b,a,c)\n",
    "if c>b>a:\n",
    "    print(c,b,a)\n",
    "if c>a>b:\n",
    "    print(c,a,b)"
   ]
  },
  {
   "cell_type": "markdown",
   "metadata": {},
   "source": [
    "- 5\n",
    "![](../Photo/46.png)"
   ]
  },
  {
   "cell_type": "code",
   "execution_count": 13,
   "metadata": {},
   "outputs": [
    {
     "name": "stdout",
     "output_type": "stream",
     "text": [
      "Enter weight and price for package 1:36,70\n",
      "Enter weight and price for package 2:66,150\n",
      "Package1 has the better price.\n"
     ]
    }
   ],
   "source": [
    "price1,weight1 = eval(input('Enter weight and price for package 1:'))\n",
    "price2,weight2 = eval(input('Enter weight and price for package 2:'))\n",
    "if (price1/weight1)>(price2/weight2):\n",
    "    print('Package1 has the better price.')\n",
    "elif (price1/weight1)<(price2/weight2):\n",
    "    print('Paclage2 has the better price.')"
   ]
  },
  {
   "cell_type": "markdown",
   "metadata": {},
   "source": [
    "- 6\n",
    "![](../Photo/47.png)"
   ]
  },
  {
   "cell_type": "code",
   "execution_count": 14,
   "metadata": {},
   "outputs": [
    {
     "name": "stdout",
     "output_type": "stream",
     "text": [
      "输入月份6\n",
      "输入年份2010\n",
      "2010 年 6 月 有30天\n"
     ]
    }
   ],
   "source": [
    "month = eval(input('输入月份'))\n",
    "year = eval(input('输入年份'))\n",
    "if ((year%4==0) and (year%100!=0)) or (year%400==0):\n",
    "    if month<=7:\n",
    "        if month%2==0:\n",
    "            if month==2:\n",
    "                print(year,'年',month,'月','有29天')\n",
    "            else:\n",
    "                print(year,'年',month,'月','有30天')\n",
    "        else:\n",
    "            print(year,'年',month,'月','有31天')\n",
    "    else:\n",
    "        if month%2==0:\n",
    "            print(year,'年',month,'月','有31天')\n",
    "        else:\n",
    "            print(year,'年',month,'月','有30天')\n",
    "else :\n",
    "    if month<=7:\n",
    "        if month%2==0:\n",
    "            if month==2:\n",
    "                print(year,'年',month,'月','有28天')\n",
    "            else:\n",
    "                print(year,'年',month,'月','有30天')\n",
    "        else:\n",
    "            print(year,'年',month,'月','有31天')\n",
    "    else:\n",
    "        if month%2==0:\n",
    "            print(year,'年',month,'月','有31天')\n",
    "        else:\n",
    "            print(year,'年',month,'月','有30天')"
   ]
  },
  {
   "cell_type": "markdown",
   "metadata": {},
   "source": [
    "- 7\n",
    "![](../Photo/48.png)"
   ]
  },
  {
   "cell_type": "code",
   "execution_count": 15,
   "metadata": {},
   "outputs": [
    {
     "name": "stdout",
     "output_type": "stream",
     "text": [
      "正面为1，反面为0 输入猜测数字0\n",
      "猜测错误\n"
     ]
    }
   ],
   "source": [
    "x = random.randint(0,1)\n",
    "y = eval(input('正面为1，反面为0 输入猜测数字'))\n",
    "if y == x:\n",
    "    print('猜测正确')\n",
    "else :\n",
    "    print('猜测错误')"
   ]
  },
  {
   "cell_type": "markdown",
   "metadata": {},
   "source": [
    "- 8\n",
    "![](../Photo/49.png)"
   ]
  },
  {
   "cell_type": "code",
   "execution_count": 16,
   "metadata": {},
   "outputs": [],
   "source": [
    "import random"
   ]
  },
  {
   "cell_type": "code",
   "execution_count": 17,
   "metadata": {},
   "outputs": [
    {
     "name": "stdout",
     "output_type": "stream",
     "text": [
      "剪刀为0，石头为1，布为2：2\n",
      "coumputer is 0\n",
      "mine won\n"
     ]
    }
   ],
   "source": [
    "computer = random.randint(0,2)\n",
    "m = eval(input('剪刀为0，石头为1，布为2：'))\n",
    "if computer>m:\n",
    "    print('coumputer is',computer)\n",
    "    print('computer won')\n",
    "if computer<m:\n",
    "    print('coumputer is',computer)\n",
    "    print('mine won')\n",
    "if computer==m:\n",
    "    print('coumputer is',computer)\n",
    "    print('it is a draw')"
   ]
  },
  {
   "cell_type": "markdown",
   "metadata": {},
   "source": [
    "- 9\n",
    "![](../Photo/50.png)"
   ]
  },
  {
   "cell_type": "code",
   "execution_count": null,
   "metadata": {},
   "outputs": [],
   "source": []
  },
  {
   "cell_type": "markdown",
   "metadata": {},
   "source": [
    "- 10\n",
    "![](../Photo/51.png)"
   ]
  },
  {
   "cell_type": "code",
   "execution_count": null,
   "metadata": {},
   "outputs": [],
   "source": []
  },
  {
   "cell_type": "markdown",
   "metadata": {},
   "source": [
    "- 11\n",
    "![](../Photo/52.png)"
   ]
  },
  {
   "cell_type": "code",
   "execution_count": 18,
   "metadata": {},
   "outputs": [
    {
     "name": "stdout",
     "output_type": "stream",
     "text": [
      "输入一个三位整数753\n",
      "不是回文数\n"
     ]
    }
   ],
   "source": [
    "a = eval(input('输入一个三位整数'))\n",
    "if a%10==a//100:\n",
    "    print('是回文数')\n",
    "else:\n",
    "    print('不是回文数')"
   ]
  },
  {
   "cell_type": "markdown",
   "metadata": {},
   "source": [
    "- 12\n",
    "![](../Photo/53.png)"
   ]
  },
  {
   "cell_type": "code",
   "execution_count": 19,
   "metadata": {},
   "outputs": [
    {
     "name": "stdout",
     "output_type": "stream",
     "text": [
      "Enter three edges:5,6,4\n",
      "The perimeter is 15\n"
     ]
    }
   ],
   "source": [
    "a,b,c = eval(input('Enter three edges:'))\n",
    "if (a+b>c) and (a+c>b) and (b+c>a):\n",
    "    print('The perimeter is',a+b+c)\n",
    "else:\n",
    "    print('输入的边长不符合')"
   ]
  }
 ],
 "metadata": {
  "kernelspec": {
   "display_name": "Python 3",
   "language": "python",
   "name": "python3"
  },
  "language_info": {
   "codemirror_mode": {
    "name": "ipython",
    "version": 3
   },
   "file_extension": ".py",
   "mimetype": "text/x-python",
   "name": "python",
   "nbconvert_exporter": "python",
   "pygments_lexer": "ipython3",
   "version": "3.7.3"
  }
 },
 "nbformat": 4,
 "nbformat_minor": 2
}
